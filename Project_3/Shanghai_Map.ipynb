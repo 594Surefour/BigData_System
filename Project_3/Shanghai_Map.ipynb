{
 "cells": [
  {
   "cell_type": "code",
   "execution_count": 1,
   "metadata": {},
   "outputs": [],
   "source": [
    "import pandas as pd"
   ]
  },
  {
   "cell_type": "code",
   "execution_count": 2,
   "metadata": {},
   "outputs": [],
   "source": [
    "path = \"./Shanghai.csv\"\n",
    "Shanghai = pd.read_csv(path)"
   ]
  },
  {
   "cell_type": "code",
   "execution_count": 3,
   "metadata": {},
   "outputs": [
    {
     "data": {
      "text/html": [
       "<div>\n",
       "<style scoped>\n",
       "    .dataframe tbody tr th:only-of-type {\n",
       "        vertical-align: middle;\n",
       "    }\n",
       "\n",
       "    .dataframe tbody tr th {\n",
       "        vertical-align: top;\n",
       "    }\n",
       "\n",
       "    .dataframe thead th {\n",
       "        text-align: right;\n",
       "    }\n",
       "</style>\n",
       "<table border=\"1\" class=\"dataframe\">\n",
       "  <thead>\n",
       "    <tr style=\"text-align: right;\">\n",
       "      <th></th>\n",
       "      <th>Unnamed: 0</th>\n",
       "      <th>Name</th>\n",
       "      <th>Street</th>\n",
       "      <th>X</th>\n",
       "      <th>Y</th>\n",
       "      <th>District</th>\n",
       "      <th>Type</th>\n",
       "      <th>Other</th>\n",
       "    </tr>\n",
       "  </thead>\n",
       "  <tbody>\n",
       "    <tr>\n",
       "      <td>0</td>\n",
       "      <td>1</td>\n",
       "      <td>百里香奶油草莓基地</td>\n",
       "      <td>劳动路707弄169临</td>\n",
       "      <td>31.445123</td>\n",
       "      <td>121.312843</td>\n",
       "      <td>上海市;嘉定区</td>\n",
       "      <td>公司企业;公司企业</td>\n",
       "      <td>13738470228</td>\n",
       "    </tr>\n",
       "    <tr>\n",
       "      <td>1</td>\n",
       "      <td>10</td>\n",
       "      <td>EVCARD电动汽车分时租赁</td>\n",
       "      <td>亨嘉庄东南50米(徐星路西)</td>\n",
       "      <td>31.474989</td>\n",
       "      <td>121.258079</td>\n",
       "      <td>上海市;嘉定区</td>\n",
       "      <td>生活服务;其它生活服务</td>\n",
       "      <td></td>\n",
       "    </tr>\n",
       "    <tr>\n",
       "      <td>2</td>\n",
       "      <td>19</td>\n",
       "      <td>上海野生动物园游客服务中心</td>\n",
       "      <td>南六公路178号</td>\n",
       "      <td>31.057080</td>\n",
       "      <td>121.711432</td>\n",
       "      <td>上海市;浦东新区</td>\n",
       "      <td>休闲娱乐;旅游景点</td>\n",
       "      <td></td>\n",
       "    </tr>\n",
       "    <tr>\n",
       "      <td>3</td>\n",
       "      <td>28</td>\n",
       "      <td>南汇・界浜水蜜桃基地</td>\n",
       "      <td>沔新路与申瓦路交叉口南150米</td>\n",
       "      <td>31.131025</td>\n",
       "      <td>121.638202</td>\n",
       "      <td>上海市;浦东新区</td>\n",
       "      <td>公司企业;公司企业</td>\n",
       "      <td></td>\n",
       "    </tr>\n",
       "    <tr>\n",
       "      <td>4</td>\n",
       "      <td>37</td>\n",
       "      <td>阳山水蜜桃</td>\n",
       "      <td>桃浦镇真南路822弄温欣旅馆旁</td>\n",
       "      <td>31.283939</td>\n",
       "      <td>121.380621</td>\n",
       "      <td>上海市;普陀区</td>\n",
       "      <td>购物;超市</td>\n",
       "      <td></td>\n",
       "    </tr>\n",
       "  </tbody>\n",
       "</table>\n",
       "</div>"
      ],
      "text/plain": [
       "   Unnamed: 0            Name           Street          X           Y  \\\n",
       "0           1       百里香奶油草莓基地      劳动路707弄169临  31.445123  121.312843   \n",
       "1          10  EVCARD电动汽车分时租赁   亨嘉庄东南50米(徐星路西)  31.474989  121.258079   \n",
       "2          19   上海野生动物园游客服务中心         南六公路178号  31.057080  121.711432   \n",
       "3          28      南汇・界浜水蜜桃基地  沔新路与申瓦路交叉口南150米  31.131025  121.638202   \n",
       "4          37           阳山水蜜桃  桃浦镇真南路822弄温欣旅馆旁  31.283939  121.380621   \n",
       "\n",
       "   District         Type        Other  \n",
       "0   上海市;嘉定区    公司企业;公司企业  13738470228  \n",
       "1   上海市;嘉定区  生活服务;其它生活服务               \n",
       "2  上海市;浦东新区    休闲娱乐;旅游景点               \n",
       "3  上海市;浦东新区    公司企业;公司企业               \n",
       "4   上海市;普陀区        购物;超市               "
      ]
     },
     "execution_count": 3,
     "metadata": {},
     "output_type": "execute_result"
    }
   ],
   "source": [
    "Shanghai.head()"
   ]
  },
  {
   "cell_type": "code",
   "execution_count": 4,
   "metadata": {},
   "outputs": [
    {
     "data": {
      "text/plain": [
       "上海市;浦东新区    49363\n",
       "上海市;闵行区     22967\n",
       "上海市;宝山区     17514\n",
       "上海市;嘉定区     16023\n",
       "上海市;松江区     15178\n",
       "上海市;静安区     14142\n",
       "上海市;徐汇区     13496\n",
       "上海市;杨浦区     11582\n",
       "上海市;黄浦区     11452\n",
       "上海市;普陀区     11160\n",
       "上海市;奉贤区     10916\n",
       "上海市;青浦区      9734\n",
       "上海市;长宁区      9019\n",
       "上海市;虹口区      7591\n",
       "上海市;金山区      6499\n",
       "上海市;崇明区      4937\n",
       "Name: District, dtype: int64"
      ]
     },
     "execution_count": 4,
     "metadata": {},
     "output_type": "execute_result"
    }
   ],
   "source": [
    "Shanghai.District.value_counts().head(16)"
   ]
  },
  {
   "cell_type": "code",
   "execution_count": 5,
   "metadata": {},
   "outputs": [],
   "source": [
    "district_value = ['上海市;浦东新区','上海市;闵行区','上海市;宝山区','上海市;嘉定区','上海市;松江区','上海市;静安区',\n",
    "                  '上海市;徐汇区','上海市;杨浦区','上海市;黄浦区','上海市;普陀区','上海市;奉贤区','上海市;青浦区',\n",
    "                  '上海市;长宁区','上海市;虹口区','上海市;金山区','上海市;崇明区']"
   ]
  },
  {
   "cell_type": "code",
   "execution_count": 6,
   "metadata": {},
   "outputs": [],
   "source": [
    "Shanghai=Shanghai.loc[Shanghai.District.isin(district_value)]"
   ]
  },
  {
   "cell_type": "code",
   "execution_count": 7,
   "metadata": {},
   "outputs": [
    {
     "data": {
      "text/html": [
       "<div>\n",
       "<style scoped>\n",
       "    .dataframe tbody tr th:only-of-type {\n",
       "        vertical-align: middle;\n",
       "    }\n",
       "\n",
       "    .dataframe tbody tr th {\n",
       "        vertical-align: top;\n",
       "    }\n",
       "\n",
       "    .dataframe thead th {\n",
       "        text-align: right;\n",
       "    }\n",
       "</style>\n",
       "<table border=\"1\" class=\"dataframe\">\n",
       "  <thead>\n",
       "    <tr style=\"text-align: right;\">\n",
       "      <th></th>\n",
       "      <th>Unnamed: 0</th>\n",
       "      <th>Name</th>\n",
       "      <th>Street</th>\n",
       "      <th>X</th>\n",
       "      <th>Y</th>\n",
       "      <th>District</th>\n",
       "      <th>Type</th>\n",
       "      <th>Other</th>\n",
       "    </tr>\n",
       "  </thead>\n",
       "  <tbody>\n",
       "    <tr>\n",
       "      <td>164922</td>\n",
       "      <td>1484299</td>\n",
       "      <td>舟山市六横开发建设管委会经济发展局</td>\n",
       "      <td>六横影院(六横镇政府南)</td>\n",
       "      <td>29.745871</td>\n",
       "      <td>122.117648</td>\n",
       "      <td>上海市;普陀区</td>\n",
       "      <td>机构团体;政府机关</td>\n",
       "      <td></td>\n",
       "    </tr>\n",
       "    <tr>\n",
       "      <td>164846</td>\n",
       "      <td>1483615</td>\n",
       "      <td>沈家门开发建设管理委员会</td>\n",
       "      <td>渔市大街8-10号附近</td>\n",
       "      <td>29.948114</td>\n",
       "      <td>122.280231</td>\n",
       "      <td>上海市;普陀区</td>\n",
       "      <td>机构团体;政府机关</td>\n",
       "      <td></td>\n",
       "    </tr>\n",
       "    <tr>\n",
       "      <td>171291</td>\n",
       "      <td>1541620</td>\n",
       "      <td>瑞珈乐舞艺术培训中心</td>\n",
       "      <td>沈家门街道新街佛国商城六楼</td>\n",
       "      <td>29.949027</td>\n",
       "      <td>122.298712</td>\n",
       "      <td>上海市;普陀区</td>\n",
       "      <td>教育学校;培训</td>\n",
       "      <td></td>\n",
       "    </tr>\n",
       "    <tr>\n",
       "      <td>159562</td>\n",
       "      <td>1436059</td>\n",
       "      <td>普陀区农产品质量安全检测中心</td>\n",
       "      <td>海莲路175号附近</td>\n",
       "      <td>29.958009</td>\n",
       "      <td>122.308792</td>\n",
       "      <td>上海市;普陀区</td>\n",
       "      <td>机构团体;公检法机构</td>\n",
       "      <td></td>\n",
       "    </tr>\n",
       "    <tr>\n",
       "      <td>124636</td>\n",
       "      <td>1121725</td>\n",
       "      <td>三菱重工空调专卖店</td>\n",
       "      <td>香榭街31号</td>\n",
       "      <td>29.971783</td>\n",
       "      <td>122.311835</td>\n",
       "      <td>上海市;普陀区</td>\n",
       "      <td>购物;数码家电</td>\n",
       "      <td></td>\n",
       "    </tr>\n",
       "    <tr>\n",
       "      <td>...</td>\n",
       "      <td>...</td>\n",
       "      <td>...</td>\n",
       "      <td>...</td>\n",
       "      <td>...</td>\n",
       "      <td>...</td>\n",
       "      <td>...</td>\n",
       "      <td>...</td>\n",
       "      <td>...</td>\n",
       "    </tr>\n",
       "    <tr>\n",
       "      <td>120306</td>\n",
       "      <td>1082755</td>\n",
       "      <td>冠华不锈钢制品股份公司</td>\n",
       "      <td>新洲村800号</td>\n",
       "      <td>31.841814</td>\n",
       "      <td>121.275150</td>\n",
       "      <td>上海市;崇明区</td>\n",
       "      <td>公司企业;公司企业</td>\n",
       "      <td>021-55898505</td>\n",
       "    </tr>\n",
       "    <tr>\n",
       "      <td>204786</td>\n",
       "      <td>1843075</td>\n",
       "      <td>上海慧岛养猪场</td>\n",
       "      <td>新庄</td>\n",
       "      <td>31.842071</td>\n",
       "      <td>121.285703</td>\n",
       "      <td>上海市;崇明区</td>\n",
       "      <td>公司企业;公司企业</td>\n",
       "      <td></td>\n",
       "    </tr>\n",
       "    <tr>\n",
       "      <td>13730</td>\n",
       "      <td>123571</td>\n",
       "      <td>长江</td>\n",
       "      <td>跃进生态型标准化水产养殖二场西北</td>\n",
       "      <td>31.844245</td>\n",
       "      <td>121.226977</td>\n",
       "      <td>上海市;崇明区</td>\n",
       "      <td>地名地址;其它地名地址</td>\n",
       "      <td></td>\n",
       "    </tr>\n",
       "    <tr>\n",
       "      <td>119456</td>\n",
       "      <td>1075105</td>\n",
       "      <td>新村北三路与新庄路交叉口</td>\n",
       "      <td></td>\n",
       "      <td>31.844607</td>\n",
       "      <td>121.288728</td>\n",
       "      <td>上海市;崇明区</td>\n",
       "      <td>基础设施;路口</td>\n",
       "      <td></td>\n",
       "    </tr>\n",
       "    <tr>\n",
       "      <td>158326</td>\n",
       "      <td>1424935</td>\n",
       "      <td>新洲灵堂</td>\n",
       "      <td>卫洲支路与新村北三路交叉口北</td>\n",
       "      <td>31.848173</td>\n",
       "      <td>121.276787</td>\n",
       "      <td>上海市;崇明区</td>\n",
       "      <td>生活服务;丧葬</td>\n",
       "      <td>18930707596</td>\n",
       "    </tr>\n",
       "  </tbody>\n",
       "</table>\n",
       "<p>231573 rows × 8 columns</p>\n",
       "</div>"
      ],
      "text/plain": [
       "        Unnamed: 0               Name            Street          X  \\\n",
       "164922     1484299  舟山市六横开发建设管委会经济发展局      六横影院(六横镇政府南)  29.745871   \n",
       "164846     1483615       沈家门开发建设管理委员会       渔市大街8-10号附近  29.948114   \n",
       "171291     1541620         瑞珈乐舞艺术培训中心     沈家门街道新街佛国商城六楼  29.949027   \n",
       "159562     1436059     普陀区农产品质量安全检测中心         海莲路175号附近  29.958009   \n",
       "124636     1121725          三菱重工空调专卖店            香榭街31号  29.971783   \n",
       "...            ...                ...               ...        ...   \n",
       "120306     1082755        冠华不锈钢制品股份公司           新洲村800号  31.841814   \n",
       "204786     1843075            上海慧岛养猪场                新庄  31.842071   \n",
       "13730       123571                 长江  跃进生态型标准化水产养殖二场西北  31.844245   \n",
       "119456     1075105       新村北三路与新庄路交叉口                    31.844607   \n",
       "158326     1424935               新洲灵堂    卫洲支路与新村北三路交叉口北  31.848173   \n",
       "\n",
       "                 Y District         Type         Other  \n",
       "164922  122.117648  上海市;普陀区    机构团体;政府机关                \n",
       "164846  122.280231  上海市;普陀区    机构团体;政府机关                \n",
       "171291  122.298712  上海市;普陀区      教育学校;培训                \n",
       "159562  122.308792  上海市;普陀区   机构团体;公检法机构                \n",
       "124636  122.311835  上海市;普陀区      购物;数码家电                \n",
       "...            ...      ...          ...           ...  \n",
       "120306  121.275150  上海市;崇明区    公司企业;公司企业  021-55898505  \n",
       "204786  121.285703  上海市;崇明区    公司企业;公司企业                \n",
       "13730   121.226977  上海市;崇明区  地名地址;其它地名地址                \n",
       "119456  121.288728  上海市;崇明区      基础设施;路口                \n",
       "158326  121.276787  上海市;崇明区      生活服务;丧葬   18930707596  \n",
       "\n",
       "[231573 rows x 8 columns]"
      ]
     },
     "execution_count": 7,
     "metadata": {},
     "output_type": "execute_result"
    }
   ],
   "source": [
    "Shanghai.sort_values(by=['X','Y'],axis=0,ascending=[True,True]) "
   ]
  },
  {
   "cell_type": "code",
   "execution_count": 8,
   "metadata": {},
   "outputs": [
    {
     "name": "stdout",
     "output_type": "stream",
     "text": [
      "<class 'pandas.core.frame.DataFrame'>\n",
      "Int64Index: 231573 entries, 0 to 242555\n",
      "Data columns (total 8 columns):\n",
      "Unnamed: 0    231573 non-null int64\n",
      "Name          231571 non-null object\n",
      "Street        231565 non-null object\n",
      "X             231573 non-null float64\n",
      "Y             231573 non-null float64\n",
      "District      231573 non-null object\n",
      "Type          231573 non-null object\n",
      "Other         231573 non-null object\n",
      "dtypes: float64(2), int64(1), object(5)\n",
      "memory usage: 15.9+ MB\n"
     ]
    }
   ],
   "source": [
    "Shanghai.info()"
   ]
  },
  {
   "cell_type": "code",
   "execution_count": 9,
   "metadata": {},
   "outputs": [],
   "source": [
    "del Shanghai['Unnamed: 0'] \n",
    "del Shanghai['Other']\n",
    "del Shanghai['Name']\n",
    "del Shanghai['Street']"
   ]
  },
  {
   "cell_type": "code",
   "execution_count": 10,
   "metadata": {},
   "outputs": [
    {
     "data": {
      "text/html": [
       "<div>\n",
       "<style scoped>\n",
       "    .dataframe tbody tr th:only-of-type {\n",
       "        vertical-align: middle;\n",
       "    }\n",
       "\n",
       "    .dataframe tbody tr th {\n",
       "        vertical-align: top;\n",
       "    }\n",
       "\n",
       "    .dataframe thead th {\n",
       "        text-align: right;\n",
       "    }\n",
       "</style>\n",
       "<table border=\"1\" class=\"dataframe\">\n",
       "  <thead>\n",
       "    <tr style=\"text-align: right;\">\n",
       "      <th></th>\n",
       "      <th>X</th>\n",
       "      <th>Y</th>\n",
       "      <th>District</th>\n",
       "      <th>Type</th>\n",
       "    </tr>\n",
       "  </thead>\n",
       "  <tbody>\n",
       "    <tr>\n",
       "      <td>0</td>\n",
       "      <td>31.445123</td>\n",
       "      <td>121.312843</td>\n",
       "      <td>上海市;嘉定区</td>\n",
       "      <td>公司企业;公司企业</td>\n",
       "    </tr>\n",
       "    <tr>\n",
       "      <td>1</td>\n",
       "      <td>31.474989</td>\n",
       "      <td>121.258079</td>\n",
       "      <td>上海市;嘉定区</td>\n",
       "      <td>生活服务;其它生活服务</td>\n",
       "    </tr>\n",
       "    <tr>\n",
       "      <td>2</td>\n",
       "      <td>31.057080</td>\n",
       "      <td>121.711432</td>\n",
       "      <td>上海市;浦东新区</td>\n",
       "      <td>休闲娱乐;旅游景点</td>\n",
       "    </tr>\n",
       "    <tr>\n",
       "      <td>3</td>\n",
       "      <td>31.131025</td>\n",
       "      <td>121.638202</td>\n",
       "      <td>上海市;浦东新区</td>\n",
       "      <td>公司企业;公司企业</td>\n",
       "    </tr>\n",
       "    <tr>\n",
       "      <td>4</td>\n",
       "      <td>31.283939</td>\n",
       "      <td>121.380621</td>\n",
       "      <td>上海市;普陀区</td>\n",
       "      <td>购物;超市</td>\n",
       "    </tr>\n",
       "  </tbody>\n",
       "</table>\n",
       "</div>"
      ],
      "text/plain": [
       "           X           Y  District         Type\n",
       "0  31.445123  121.312843   上海市;嘉定区    公司企业;公司企业\n",
       "1  31.474989  121.258079   上海市;嘉定区  生活服务;其它生活服务\n",
       "2  31.057080  121.711432  上海市;浦东新区    休闲娱乐;旅游景点\n",
       "3  31.131025  121.638202  上海市;浦东新区    公司企业;公司企业\n",
       "4  31.283939  121.380621   上海市;普陀区        购物;超市"
      ]
     },
     "execution_count": 10,
     "metadata": {},
     "output_type": "execute_result"
    }
   ],
   "source": [
    "Shanghai.head()"
   ]
  },
  {
   "cell_type": "code",
   "execution_count": 11,
   "metadata": {},
   "outputs": [
    {
     "name": "stdout",
     "output_type": "stream",
     "text": [
      "<class 'pandas.core.frame.DataFrame'>\n",
      "Int64Index: 231573 entries, 0 to 242555\n",
      "Data columns (total 4 columns):\n",
      "X           231573 non-null float64\n",
      "Y           231573 non-null float64\n",
      "District    231573 non-null object\n",
      "Type        231573 non-null object\n",
      "dtypes: float64(2), object(2)\n",
      "memory usage: 8.8+ MB\n"
     ]
    }
   ],
   "source": [
    "Shanghai.info()"
   ]
  },
  {
   "cell_type": "code",
   "execution_count": 12,
   "metadata": {},
   "outputs": [],
   "source": [
    "#Shanghai.to_csv(\"./newShanghai.csv\")"
   ]
  },
  {
   "cell_type": "code",
   "execution_count": 14,
   "metadata": {},
   "outputs": [
    {
     "data": {
      "text/plain": [
       "X           31.1565\n",
       "Y           121.345\n",
       "District    上海市;闵行区\n",
       "Type         美食;冷饮店\n",
       "Name: 35031, dtype: object"
      ]
     },
     "execution_count": 14,
     "metadata": {},
     "output_type": "execute_result"
    }
   ],
   "source": [
    "Shanghai.loc[35031]"
   ]
  },
  {
   "cell_type": "code",
   "execution_count": null,
   "metadata": {},
   "outputs": [],
   "source": []
  }
 ],
 "metadata": {
  "kernelspec": {
   "display_name": "Python 3",
   "language": "python",
   "name": "python3"
  },
  "language_info": {
   "codemirror_mode": {
    "name": "ipython",
    "version": 3
   },
   "file_extension": ".py",
   "mimetype": "text/x-python",
   "name": "python",
   "nbconvert_exporter": "python",
   "pygments_lexer": "ipython3",
   "version": "3.6.9"
  }
 },
 "nbformat": 4,
 "nbformat_minor": 2
}
