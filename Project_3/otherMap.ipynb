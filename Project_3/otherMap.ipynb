{
 "cells": [
  {
   "cell_type": "code",
   "execution_count": 1,
   "metadata": {},
   "outputs": [],
   "source": [
    "import pandas as pd\n",
    "from sklearn.model_selection import train_test_split\n",
    "from sklearn.linear_model import LogisticRegression\n",
    "from sklearn.ensemble import RandomForestClassifier"
   ]
  },
  {
   "cell_type": "code",
   "execution_count": 69,
   "metadata": {},
   "outputs": [],
   "source": [
    "Beijing = pd.read_csv(\"Beijing.csv\")\n"
   ]
  },
  {
   "cell_type": "code",
   "execution_count": 70,
   "metadata": {},
   "outputs": [
    {
     "name": "stdout",
     "output_type": "stream",
     "text": [
      "<class 'pandas.core.frame.DataFrame'>\n",
      "RangeIndex: 207891 entries, 0 to 207890\n",
      "Data columns (total 8 columns):\n",
      "Unnamed: 0    207891 non-null int64\n",
      "Name          207890 non-null object\n",
      "Street        207886 non-null object\n",
      "X             207891 non-null float64\n",
      "Y             207891 non-null float64\n",
      "District      207891 non-null object\n",
      "Type          207891 non-null object\n",
      "Other         207891 non-null object\n",
      "dtypes: float64(2), int64(1), object(5)\n",
      "memory usage: 12.7+ MB\n"
     ]
    }
   ],
   "source": [
    "Beijing.info()"
   ]
  },
  {
   "cell_type": "code",
   "execution_count": 71,
   "metadata": {},
   "outputs": [
    {
     "data": {
      "text/plain": [
       "230"
      ]
     },
     "execution_count": 71,
     "metadata": {},
     "output_type": "execute_result"
    }
   ],
   "source": [
    "Beijing.Type.nunique()"
   ]
  },
  {
   "cell_type": "code",
   "execution_count": 72,
   "metadata": {},
   "outputs": [
    {
     "data": {
      "text/plain": [
       "北京市;朝阳区     47233\n",
       "北京市;海淀区     27872\n",
       "北京市;丰台区     19020\n",
       "北京市;昌平区     15334\n",
       "北京市;大兴区     14141\n",
       "北京市;西城区     13374\n",
       "北京市;通州区     12420\n",
       "北京市;东城区     10924\n",
       "北京市;顺义区      9306\n",
       "北京市;房山区      7583\n",
       "北京市;密云区      5027\n",
       "北京市;怀柔区      4168\n",
       "北京市;石景山区     4102\n",
       "北京市;平谷区      3448\n",
       "北京市;延庆区      2952\n",
       "北京市;门头沟区     1944\n",
       "北京市;          281\n",
       "北京市;江宁区       149\n",
       "北京市;玄武区       148\n",
       "北京市;鼓楼区       144\n",
       "Name: District, dtype: int64"
      ]
     },
     "execution_count": 72,
     "metadata": {},
     "output_type": "execute_result"
    }
   ],
   "source": [
    "Beijing.District.value_counts().head(20)"
   ]
  },
  {
   "cell_type": "code",
   "execution_count": 73,
   "metadata": {},
   "outputs": [],
   "source": [
    "district_value = ['北京市;朝阳区','北京市;海淀区','北京市;丰台区','北京市;昌平区','北京市;大兴区','北京市;西城区',\n",
    "                  '北京市;通州区','北京市;东城区','北京市;顺义区','北京市;房山区','北京市;密云区','北京市;怀柔区',\n",
    "                  '北京市;石景山区','北京市;平谷区','北京市;延庆区','北京市;门头沟区']"
   ]
  },
  {
   "cell_type": "code",
   "execution_count": 74,
   "metadata": {},
   "outputs": [],
   "source": [
    "Beijing=Beijing.loc[Beijing.District.isin(district_value)]"
   ]
  },
  {
   "cell_type": "code",
   "execution_count": 75,
   "metadata": {},
   "outputs": [],
   "source": [
    "del Beijing['Other']"
   ]
  },
  {
   "cell_type": "code",
   "execution_count": 76,
   "metadata": {},
   "outputs": [
    {
     "data": {
      "text/html": [
       "<div>\n",
       "<style scoped>\n",
       "    .dataframe tbody tr th:only-of-type {\n",
       "        vertical-align: middle;\n",
       "    }\n",
       "\n",
       "    .dataframe tbody tr th {\n",
       "        vertical-align: top;\n",
       "    }\n",
       "\n",
       "    .dataframe thead th {\n",
       "        text-align: right;\n",
       "    }\n",
       "</style>\n",
       "<table border=\"1\" class=\"dataframe\">\n",
       "  <thead>\n",
       "    <tr style=\"text-align: right;\">\n",
       "      <th></th>\n",
       "      <th>Unnamed: 0</th>\n",
       "      <th>Name</th>\n",
       "      <th>Street</th>\n",
       "      <th>X</th>\n",
       "      <th>Y</th>\n",
       "      <th>District</th>\n",
       "      <th>Type</th>\n",
       "    </tr>\n",
       "  </thead>\n",
       "  <tbody>\n",
       "    <tr>\n",
       "      <td>0</td>\n",
       "      <td>1</td>\n",
       "      <td>弓箭手</td>\n",
       "      <td>东四环四方桥东南角欢乐谷内</td>\n",
       "      <td>39.866495</td>\n",
       "      <td>116.485366</td>\n",
       "      <td>北京市;朝阳区</td>\n",
       "      <td>休闲娱乐;旅游景点</td>\n",
       "    </tr>\n",
       "    <tr>\n",
       "      <td>1</td>\n",
       "      <td>10</td>\n",
       "      <td>希尔顿酒店(王府井店)</td>\n",
       "      <td>王府井东街8号澳门中心F1-F4层</td>\n",
       "      <td>39.912968</td>\n",
       "      <td>116.407110</td>\n",
       "      <td>北京市;东城区</td>\n",
       "      <td>酒店宾馆;星级酒店</td>\n",
       "    </tr>\n",
       "    <tr>\n",
       "      <td>2</td>\n",
       "      <td>19</td>\n",
       "      <td>花园胡同小区-东门</td>\n",
       "      <td>花园胡同16</td>\n",
       "      <td>39.945864</td>\n",
       "      <td>116.397891</td>\n",
       "      <td>北京市;东城区</td>\n",
       "      <td>基础设施;门/出入口</td>\n",
       "    </tr>\n",
       "    <tr>\n",
       "      <td>3</td>\n",
       "      <td>28</td>\n",
       "      <td>绮园花园-西南门</td>\n",
       "      <td>秦老胡同35号</td>\n",
       "      <td>39.935765</td>\n",
       "      <td>116.397783</td>\n",
       "      <td>北京市;东城区</td>\n",
       "      <td>基础设施;门/出入口</td>\n",
       "    </tr>\n",
       "    <tr>\n",
       "      <td>4</td>\n",
       "      <td>37</td>\n",
       "      <td>安外花园7号楼-东门</td>\n",
       "      <td>和平里北街29号附近</td>\n",
       "      <td>39.957486</td>\n",
       "      <td>116.405613</td>\n",
       "      <td>北京市;东城区</td>\n",
       "      <td>基础设施;门/出入口</td>\n",
       "    </tr>\n",
       "  </tbody>\n",
       "</table>\n",
       "</div>"
      ],
      "text/plain": [
       "   Unnamed: 0         Name             Street          X           Y District  \\\n",
       "0           1          弓箭手      东四环四方桥东南角欢乐谷内  39.866495  116.485366  北京市;朝阳区   \n",
       "1          10  希尔顿酒店(王府井店)  王府井东街8号澳门中心F1-F4层  39.912968  116.407110  北京市;东城区   \n",
       "2          19    花园胡同小区-东门             花园胡同16  39.945864  116.397891  北京市;东城区   \n",
       "3          28     绮园花园-西南门            秦老胡同35号  39.935765  116.397783  北京市;东城区   \n",
       "4          37   安外花园7号楼-东门         和平里北街29号附近  39.957486  116.405613  北京市;东城区   \n",
       "\n",
       "         Type  \n",
       "0   休闲娱乐;旅游景点  \n",
       "1   酒店宾馆;星级酒店  \n",
       "2  基础设施;门/出入口  \n",
       "3  基础设施;门/出入口  \n",
       "4  基础设施;门/出入口  "
      ]
     },
     "execution_count": 76,
     "metadata": {},
     "output_type": "execute_result"
    }
   ],
   "source": [
    "Beijing.head()"
   ]
  },
  {
   "cell_type": "code",
   "execution_count": 77,
   "metadata": {},
   "outputs": [
    {
     "data": {
      "text/plain": [
       "{'交通运输;港口码头': 0,\n",
       " '休闲娱乐;KTV': 1,\n",
       " '休闲娱乐;其它娱乐休闲': 2,\n",
       " '休闲娱乐;剧场音乐厅': 3,\n",
       " '休闲娱乐;咖啡厅': 4,\n",
       " '休闲娱乐;夜总会': 5,\n",
       " '休闲娱乐;娱乐休闲场所附属': 6,\n",
       " '休闲娱乐;度假疗养': 7,\n",
       " '休闲娱乐;户外活动': 8,\n",
       " '休闲娱乐;旅游景点': 9,\n",
       " '休闲娱乐;洗浴推拿足疗': 10,\n",
       " '休闲娱乐;游乐场': 11,\n",
       " '休闲娱乐;电影院': 12,\n",
       " '休闲娱乐;网吧': 13,\n",
       " '休闲娱乐;茶馆': 14,\n",
       " '休闲娱乐;迪厅': 15,\n",
       " '休闲娱乐;酒吧': 16,\n",
       " '公司企业;公司企业': 17,\n",
       " '公司企业;其它机构团体': 18,\n",
       " '其它;其它': 19,\n",
       " '医疗保健;专科医院': 20,\n",
       " '医疗保健;儿科': 21,\n",
       " '医疗保健;其它专科医院': 22,\n",
       " '医疗保健;其它医疗保健': 23,\n",
       " '医疗保健;医疗保健附属': 24,\n",
       " '医疗保健;妇产科': 25,\n",
       " '医疗保健;宠物医院': 26,\n",
       " '医疗保健;急救中心': 27,\n",
       " '医疗保健;整形': 28,\n",
       " '医疗保健;疾病预防': 29,\n",
       " '医疗保健;精神病医院': 30,\n",
       " '医疗保健;综合医院': 31,\n",
       " '医疗保健;药房药店': 32,\n",
       " '医疗保健;诊所': 33,\n",
       " '医疗保健;骨科': 34,\n",
       " '医疗保健;齿科': 35,\n",
       " '地名地址;其它地名地址': 36,\n",
       " '地名地址;地名地址信息': 37,\n",
       " '地名地址;山': 38,\n",
       " '地名地址;河流': 39,\n",
       " '地名地址;湖泊': 40,\n",
       " '地名地址;热点区域': 41,\n",
       " '地名地址;行政地名': 42,\n",
       " '地名地址;门牌信息': 43,\n",
       " '基础设施;交通设施': 44,\n",
       " '基础设施;公交车站': 45,\n",
       " '基础设施;公共厕所': 46,\n",
       " '基础设施;公用电话': 47,\n",
       " '基础设施;其它交通设施': 48,\n",
       " '基础设施;其它基础设施': 49,\n",
       " '基础设施;其它室内及附属设施': 50,\n",
       " '基础设施;地铁站': 51,\n",
       " '基础设施;收费站': 52,\n",
       " '基础设施;服务区': 53,\n",
       " '基础设施;机场附属': 54,\n",
       " '基础设施;桥': 55,\n",
       " '基础设施;火车站': 56,\n",
       " '基础设施;火车站附属': 57,\n",
       " '基础设施;紧急避难场所': 58,\n",
       " '基础设施;路口': 59,\n",
       " '基础设施;通行设施类': 60,\n",
       " '基础设施;道路出入口': 61,\n",
       " '基础设施;道路名': 62,\n",
       " '基础设施;道路附属': 63,\n",
       " '基础设施;长途汽车站': 64,\n",
       " '基础设施;门/出入口': 65,\n",
       " '建筑房产;产业园区': 66,\n",
       " '建筑房产;住宅区': 67,\n",
       " '建筑房产;住宅小区': 68,\n",
       " '建筑房产;其它房产小区': 69,\n",
       " '建筑房产;别墅': 70,\n",
       " '建筑房产;商务楼宇': 71,\n",
       " '建筑房产;宿舍': 72,\n",
       " '建筑房产;房产小区附属': 73,\n",
       " '建筑房产;社区中心': 74,\n",
       " '教育学校;中学': 75,\n",
       " '教育学校;保险公司': 76,\n",
       " '教育学校;其它教育学校': 77,\n",
       " '教育学校;培训': 78,\n",
       " '教育学校;大学': 79,\n",
       " '教育学校;小学': 80,\n",
       " '教育学校;幼儿园': 81,\n",
       " '教育学校;成人教育': 82,\n",
       " '教育学校;教育学校附属': 83,\n",
       " '教育学校;职业技术学校': 84,\n",
       " '教育学校;证券公司': 85,\n",
       " '文化场馆;会展中心': 86,\n",
       " '文化场馆;其它文化场馆': 87,\n",
       " '文化场馆;博物馆': 88,\n",
       " '文化场馆;图书馆': 89,\n",
       " '文化场馆;天文馆': 90,\n",
       " '文化场馆;展览馆': 91,\n",
       " '文化场馆;文化宫': 92,\n",
       " '文化场馆;档案馆': 93,\n",
       " '文化场馆;科技馆': 94,\n",
       " '文化场馆;美术馆': 95,\n",
       " '旅游服务;旅行社': 96,\n",
       " '机构团体;传媒机构': 97,\n",
       " '机构团体;公共设施': 98,\n",
       " '机构团体;公检法机构': 99,\n",
       " '机构团体;外国机构': 100,\n",
       " '机构团体;工商税务机构': 101,\n",
       " '机构团体;政府机关': 102,\n",
       " '机构团体;文艺团体': 103,\n",
       " '机构团体;民主党派': 104,\n",
       " '机构团体;社会团体': 105,\n",
       " '机构团体;科研机构': 106,\n",
       " '机构团体;车辆管理机构': 107,\n",
       " '汽车;二手车交易市场': 108,\n",
       " '汽车;停车场': 109,\n",
       " '汽车;其它汽车': 110,\n",
       " '汽车;加油站': 111,\n",
       " '汽车;摩托车': 112,\n",
       " '汽车;汽车养护': 113,\n",
       " '汽车;汽车救援': 114,\n",
       " '汽车;汽车租赁': 115,\n",
       " '汽车;汽车维修': 116,\n",
       " '汽车;汽车配件销售': 117,\n",
       " '汽车;汽车销售': 118,\n",
       " '汽车;洗车场': 119,\n",
       " '汽车;驾校': 120,\n",
       " '生活服务;丧葬': 121,\n",
       " '生活服务;中介机构': 122,\n",
       " '生活服务;事务所': 123,\n",
       " '生活服务;信息咨询中心': 124,\n",
       " '生活服务;其它生活服务': 125,\n",
       " '生活服务;婚庆服务': 126,\n",
       " '生活服务;宠物服务': 127,\n",
       " '生活服务;家政': 128,\n",
       " '生活服务;废品收购站': 129,\n",
       " '生活服务;彩票': 130,\n",
       " '生活服务;报刊亭': 131,\n",
       " '生活服务;招聘求职': 132,\n",
       " '生活服务;摄影冲印': 133,\n",
       " '生活服务;教练': 134,\n",
       " '生活服务;洗衣店': 135,\n",
       " '生活服务;测字风水': 136,\n",
       " '生活服务;生活服务场所': 137,\n",
       " '生活服务;电力营业厅': 138,\n",
       " '生活服务;票务代售': 139,\n",
       " '生活服务;福利院养老院': 140,\n",
       " '生活服务;美容美发': 141,\n",
       " '生活服务;自来水营业厅': 142,\n",
       " '生活服务;通讯服务': 143,\n",
       " '生活服务;邮局速递': 144,\n",
       " '美食;东南亚菜': 145,\n",
       " '美食;中餐厅': 146,\n",
       " '美食;其它美食': 147,\n",
       " '美食;农家菜': 148,\n",
       " '美食;冷饮店': 149,\n",
       " '美食;官府菜': 150,\n",
       " '美食;家常菜': 151,\n",
       " '美食;小吃快餐': 152,\n",
       " '美食;日韩菜': 153,\n",
       " '美食;海鲜': 154,\n",
       " '美食;清真': 155,\n",
       " '美食;火锅': 156,\n",
       " '美食;烧烤': 157,\n",
       " '美食;特色中餐': 158,\n",
       " '美食;私家菜': 159,\n",
       " '美食;素食': 160,\n",
       " '美食;自助餐': 161,\n",
       " '美食;茶餐厅': 162,\n",
       " '美食;西餐': 163,\n",
       " '美食;面包甜点': 164,\n",
       " '购物;体育户外': 165,\n",
       " '购物;便利店': 166,\n",
       " '购物;其它购物': 167,\n",
       " '购物;农贸市场': 168,\n",
       " '购物;化妆品': 169,\n",
       " '购物;古玩字画': 170,\n",
       " '购物;商业步行街': 171,\n",
       " '购物;图书音像': 172,\n",
       " '购物;家具家居建材': 173,\n",
       " '购物;小商品市场': 174,\n",
       " '购物;拍卖典当行': 175,\n",
       " '购物;摄影器材': 176,\n",
       " '购物;数码家电': 177,\n",
       " '购物;文化用品': 178,\n",
       " '购物;旧货市场': 179,\n",
       " '购物;服饰鞋包': 180,\n",
       " '购物;母婴儿童': 181,\n",
       " '购物;汽车俱乐部': 182,\n",
       " '购物;烟酒专卖': 183,\n",
       " '购物;珠宝饰品': 184,\n",
       " '购物;眼镜店': 185,\n",
       " '购物;礼品': 186,\n",
       " '购物;综合商场': 187,\n",
       " '购物;自行车专卖': 188,\n",
       " '购物;花鸟鱼虫': 189,\n",
       " '购物;超市': 190,\n",
       " '购物;钟表店': 191,\n",
       " '运动健身;乒乓球馆': 192,\n",
       " '运动健身;保龄球馆': 193,\n",
       " '运动健身;健身中心': 194,\n",
       " '运动健身;其它运动健身': 195,\n",
       " '运动健身;台球馆': 196,\n",
       " '运动健身;壁球场': 197,\n",
       " '运动健身;海滨浴场': 198,\n",
       " '运动健身;游戏棋牌': 199,\n",
       " '运动健身;游泳馆': 200,\n",
       " '运动健身;溜冰': 201,\n",
       " '运动健身;滑雪': 202,\n",
       " '运动健身;瑜伽': 203,\n",
       " '运动健身;篮球场': 204,\n",
       " '运动健身;综合体育场馆': 205,\n",
       " '运动健身;网球场': 206,\n",
       " '运动健身;羽毛球馆': 207,\n",
       " '运动健身;舞蹈': 208,\n",
       " '运动健身;赛马场': 209,\n",
       " '运动健身;足球场': 210,\n",
       " '运动健身;跆拳道': 211,\n",
       " '运动健身;马术': 212,\n",
       " '运动健身;高尔夫场': 213,\n",
       " '酒店宾馆;公寓式酒店': 214,\n",
       " '酒店宾馆;其它酒店宾馆': 215,\n",
       " '酒店宾馆;度假村': 216,\n",
       " '酒店宾馆;旅馆招待所': 217,\n",
       " '酒店宾馆;星级酒店': 218,\n",
       " '酒店宾馆;经济型酒店': 219,\n",
       " '酒店宾馆;酒店宾馆': 220,\n",
       " '酒店宾馆;酒店宾馆附属': 221,\n",
       " '酒店宾馆;青年旅社': 222,\n",
       " '银行金融;其它银行金融': 223,\n",
       " '银行金融;自动提款机': 224,\n",
       " '银行金融;财务公司': 225,\n",
       " '银行金融;银行': 226}"
      ]
     },
     "execution_count": 77,
     "metadata": {},
     "output_type": "execute_result"
    }
   ],
   "source": [
    "temp = Beijing.Type.sort_values()\n",
    "Type_array = temp.unique()\n",
    "Tpye_map = {}\n",
    "n = 0\n",
    "for i in Type_array:\n",
    "    #print(i)\n",
    "    Tpye_map[n] = i\n",
    "    n+=1\n",
    "#将map的key与相应value反转\n",
    "Tpye_map_new = {value:key for key,value in Tpye_map.items()} \n",
    "Tpye_map_new"
   ]
  },
  {
   "cell_type": "code",
   "execution_count": 78,
   "metadata": {},
   "outputs": [],
   "source": [
    "Beijing['Type'] = Beijing['Type'].map(Tpye_map_new)"
   ]
  },
  {
   "cell_type": "code",
   "execution_count": 79,
   "metadata": {},
   "outputs": [
    {
     "data": {
      "text/html": [
       "<div>\n",
       "<style scoped>\n",
       "    .dataframe tbody tr th:only-of-type {\n",
       "        vertical-align: middle;\n",
       "    }\n",
       "\n",
       "    .dataframe tbody tr th {\n",
       "        vertical-align: top;\n",
       "    }\n",
       "\n",
       "    .dataframe thead th {\n",
       "        text-align: right;\n",
       "    }\n",
       "</style>\n",
       "<table border=\"1\" class=\"dataframe\">\n",
       "  <thead>\n",
       "    <tr style=\"text-align: right;\">\n",
       "      <th></th>\n",
       "      <th>Unnamed: 0</th>\n",
       "      <th>Name</th>\n",
       "      <th>Street</th>\n",
       "      <th>X</th>\n",
       "      <th>Y</th>\n",
       "      <th>District</th>\n",
       "      <th>Type</th>\n",
       "    </tr>\n",
       "  </thead>\n",
       "  <tbody>\n",
       "    <tr>\n",
       "      <td>0</td>\n",
       "      <td>1</td>\n",
       "      <td>弓箭手</td>\n",
       "      <td>东四环四方桥东南角欢乐谷内</td>\n",
       "      <td>39.866495</td>\n",
       "      <td>116.485366</td>\n",
       "      <td>北京市;朝阳区</td>\n",
       "      <td>9</td>\n",
       "    </tr>\n",
       "    <tr>\n",
       "      <td>1</td>\n",
       "      <td>10</td>\n",
       "      <td>希尔顿酒店(王府井店)</td>\n",
       "      <td>王府井东街8号澳门中心F1-F4层</td>\n",
       "      <td>39.912968</td>\n",
       "      <td>116.407110</td>\n",
       "      <td>北京市;东城区</td>\n",
       "      <td>218</td>\n",
       "    </tr>\n",
       "    <tr>\n",
       "      <td>2</td>\n",
       "      <td>19</td>\n",
       "      <td>花园胡同小区-东门</td>\n",
       "      <td>花园胡同16</td>\n",
       "      <td>39.945864</td>\n",
       "      <td>116.397891</td>\n",
       "      <td>北京市;东城区</td>\n",
       "      <td>65</td>\n",
       "    </tr>\n",
       "    <tr>\n",
       "      <td>3</td>\n",
       "      <td>28</td>\n",
       "      <td>绮园花园-西南门</td>\n",
       "      <td>秦老胡同35号</td>\n",
       "      <td>39.935765</td>\n",
       "      <td>116.397783</td>\n",
       "      <td>北京市;东城区</td>\n",
       "      <td>65</td>\n",
       "    </tr>\n",
       "    <tr>\n",
       "      <td>4</td>\n",
       "      <td>37</td>\n",
       "      <td>安外花园7号楼-东门</td>\n",
       "      <td>和平里北街29号附近</td>\n",
       "      <td>39.957486</td>\n",
       "      <td>116.405613</td>\n",
       "      <td>北京市;东城区</td>\n",
       "      <td>65</td>\n",
       "    </tr>\n",
       "    <tr>\n",
       "      <td>5</td>\n",
       "      <td>46</td>\n",
       "      <td>东城区人民政府举报站-后门</td>\n",
       "      <td>育群胡同1号</td>\n",
       "      <td>39.927819</td>\n",
       "      <td>116.409970</td>\n",
       "      <td>北京市;东城区</td>\n",
       "      <td>65</td>\n",
       "    </tr>\n",
       "    <tr>\n",
       "      <td>6</td>\n",
       "      <td>55</td>\n",
       "      <td>许莹美术馆-南门</td>\n",
       "      <td>花园北巷2附近</td>\n",
       "      <td>39.947044</td>\n",
       "      <td>116.396851</td>\n",
       "      <td>北京市;东城区</td>\n",
       "      <td>65</td>\n",
       "    </tr>\n",
       "    <tr>\n",
       "      <td>7</td>\n",
       "      <td>64</td>\n",
       "      <td>东城区纪委监察局信访接待室-北门</td>\n",
       "      <td>什锦花园胡同12号附近</td>\n",
       "      <td>39.927789</td>\n",
       "      <td>116.409880</td>\n",
       "      <td>北京市;东城区</td>\n",
       "      <td>65</td>\n",
       "    </tr>\n",
       "    <tr>\n",
       "      <td>8</td>\n",
       "      <td>73</td>\n",
       "      <td>庆阳市人民政府驻北京联络处-北门</td>\n",
       "      <td>什锦花园胡同24号</td>\n",
       "      <td>39.928478</td>\n",
       "      <td>116.408739</td>\n",
       "      <td>北京市;东城区</td>\n",
       "      <td>65</td>\n",
       "    </tr>\n",
       "    <tr>\n",
       "      <td>9</td>\n",
       "      <td>82</td>\n",
       "      <td>北京龙源盛世影视广告有限公司-西门</td>\n",
       "      <td>花园路16号</td>\n",
       "      <td>39.969910</td>\n",
       "      <td>116.359669</td>\n",
       "      <td>北京市;海淀区</td>\n",
       "      <td>65</td>\n",
       "    </tr>\n",
       "  </tbody>\n",
       "</table>\n",
       "</div>"
      ],
      "text/plain": [
       "   Unnamed: 0               Name             Street          X           Y  \\\n",
       "0           1                弓箭手      东四环四方桥东南角欢乐谷内  39.866495  116.485366   \n",
       "1          10        希尔顿酒店(王府井店)  王府井东街8号澳门中心F1-F4层  39.912968  116.407110   \n",
       "2          19          花园胡同小区-东门             花园胡同16  39.945864  116.397891   \n",
       "3          28           绮园花园-西南门            秦老胡同35号  39.935765  116.397783   \n",
       "4          37         安外花园7号楼-东门         和平里北街29号附近  39.957486  116.405613   \n",
       "5          46      东城区人民政府举报站-后门             育群胡同1号  39.927819  116.409970   \n",
       "6          55           许莹美术馆-南门            花园北巷2附近  39.947044  116.396851   \n",
       "7          64   东城区纪委监察局信访接待室-北门        什锦花园胡同12号附近  39.927789  116.409880   \n",
       "8          73   庆阳市人民政府驻北京联络处-北门          什锦花园胡同24号  39.928478  116.408739   \n",
       "9          82  北京龙源盛世影视广告有限公司-西门             花园路16号  39.969910  116.359669   \n",
       "\n",
       "  District  Type  \n",
       "0  北京市;朝阳区     9  \n",
       "1  北京市;东城区   218  \n",
       "2  北京市;东城区    65  \n",
       "3  北京市;东城区    65  \n",
       "4  北京市;东城区    65  \n",
       "5  北京市;东城区    65  \n",
       "6  北京市;东城区    65  \n",
       "7  北京市;东城区    65  \n",
       "8  北京市;东城区    65  \n",
       "9  北京市;海淀区    65  "
      ]
     },
     "execution_count": 79,
     "metadata": {},
     "output_type": "execute_result"
    }
   ],
   "source": [
    "Beijing.head(10)"
   ]
  },
  {
   "cell_type": "code",
   "execution_count": 80,
   "metadata": {},
   "outputs": [],
   "source": [
    "del Beijing['Name']\n",
    "del Beijing['Street']\n",
    "Beijing.columns = (['index','X','Y','District','Type'])"
   ]
  },
  {
   "cell_type": "code",
   "execution_count": 81,
   "metadata": {},
   "outputs": [],
   "source": [
    "Beijing['rValue']=0\n",
    "Beijing['rRange']=0"
   ]
  },
  {
   "cell_type": "code",
   "execution_count": 82,
   "metadata": {},
   "outputs": [],
   "source": [
    "Beijing_Center_X = 39.9158\n",
    "Beijing_Center_Y = 116.3908"
   ]
  },
  {
   "cell_type": "code",
   "execution_count": 83,
   "metadata": {},
   "outputs": [],
   "source": [
    "Beijing['centerDistance']=0.0\n",
    "for index,row in Beijing.iterrows():\n",
    "    dis = ((row['X']-Beijing_Center_X)**2) + ((row['Y']-Beijing_Center_Y)**2)\n",
    "    #print(dis)\n",
    "    Beijing.loc[index,'centerDistance']=int(dis*1000)"
   ]
  },
  {
   "cell_type": "code",
   "execution_count": 84,
   "metadata": {},
   "outputs": [
    {
     "data": {
      "text/plain": [
       "3.0       8534\n",
       "0.0       8419\n",
       "2.0       8372\n",
       "1.0       7816\n",
       "5.0       7789\n",
       "          ... \n",
       "1342.0       1\n",
       "1175.0       1\n",
       "1176.0       1\n",
       "1177.0       1\n",
       "1066.0       1\n",
       "Name: centerDistance, Length: 1291, dtype: int64"
      ]
     },
     "execution_count": 84,
     "metadata": {},
     "output_type": "execute_result"
    }
   ],
   "source": [
    "Beijing['centerDistance'].value_counts()"
   ]
  },
  {
   "cell_type": "code",
   "execution_count": 85,
   "metadata": {},
   "outputs": [
    {
     "data": {
      "text/html": [
       "<div>\n",
       "<style scoped>\n",
       "    .dataframe tbody tr th:only-of-type {\n",
       "        vertical-align: middle;\n",
       "    }\n",
       "\n",
       "    .dataframe tbody tr th {\n",
       "        vertical-align: top;\n",
       "    }\n",
       "\n",
       "    .dataframe thead th {\n",
       "        text-align: right;\n",
       "    }\n",
       "</style>\n",
       "<table border=\"1\" class=\"dataframe\">\n",
       "  <thead>\n",
       "    <tr style=\"text-align: right;\">\n",
       "      <th></th>\n",
       "      <th>index</th>\n",
       "      <th>X</th>\n",
       "      <th>Y</th>\n",
       "      <th>District</th>\n",
       "      <th>Type</th>\n",
       "      <th>rValue</th>\n",
       "      <th>rRange</th>\n",
       "      <th>centerDistance</th>\n",
       "    </tr>\n",
       "  </thead>\n",
       "  <tbody>\n",
       "    <tr>\n",
       "      <td>0</td>\n",
       "      <td>1</td>\n",
       "      <td>39.866495</td>\n",
       "      <td>116.485366</td>\n",
       "      <td>北京市;朝阳区</td>\n",
       "      <td>9</td>\n",
       "      <td>0</td>\n",
       "      <td>0</td>\n",
       "      <td>11.0</td>\n",
       "    </tr>\n",
       "    <tr>\n",
       "      <td>1</td>\n",
       "      <td>10</td>\n",
       "      <td>39.912968</td>\n",
       "      <td>116.407110</td>\n",
       "      <td>北京市;东城区</td>\n",
       "      <td>218</td>\n",
       "      <td>0</td>\n",
       "      <td>0</td>\n",
       "      <td>0.0</td>\n",
       "    </tr>\n",
       "    <tr>\n",
       "      <td>2</td>\n",
       "      <td>19</td>\n",
       "      <td>39.945864</td>\n",
       "      <td>116.397891</td>\n",
       "      <td>北京市;东城区</td>\n",
       "      <td>65</td>\n",
       "      <td>0</td>\n",
       "      <td>0</td>\n",
       "      <td>0.0</td>\n",
       "    </tr>\n",
       "    <tr>\n",
       "      <td>3</td>\n",
       "      <td>28</td>\n",
       "      <td>39.935765</td>\n",
       "      <td>116.397783</td>\n",
       "      <td>北京市;东城区</td>\n",
       "      <td>65</td>\n",
       "      <td>0</td>\n",
       "      <td>0</td>\n",
       "      <td>0.0</td>\n",
       "    </tr>\n",
       "    <tr>\n",
       "      <td>4</td>\n",
       "      <td>37</td>\n",
       "      <td>39.957486</td>\n",
       "      <td>116.405613</td>\n",
       "      <td>北京市;东城区</td>\n",
       "      <td>65</td>\n",
       "      <td>0</td>\n",
       "      <td>0</td>\n",
       "      <td>1.0</td>\n",
       "    </tr>\n",
       "  </tbody>\n",
       "</table>\n",
       "</div>"
      ],
      "text/plain": [
       "   index          X           Y District  Type  rValue  rRange  centerDistance\n",
       "0      1  39.866495  116.485366  北京市;朝阳区     9       0       0            11.0\n",
       "1     10  39.912968  116.407110  北京市;东城区   218       0       0             0.0\n",
       "2     19  39.945864  116.397891  北京市;东城区    65       0       0             0.0\n",
       "3     28  39.935765  116.397783  北京市;东城区    65       0       0             0.0\n",
       "4     37  39.957486  116.405613  北京市;东城区    65       0       0             1.0"
      ]
     },
     "execution_count": 85,
     "metadata": {},
     "output_type": "execute_result"
    }
   ],
   "source": [
    "Beijing.head()\n",
    "#北京的测试数据集准备好了"
   ]
  },
  {
   "cell_type": "code",
   "execution_count": 22,
   "metadata": {},
   "outputs": [],
   "source": [
    "#把上海的model拿过来\n",
    "path = \"./Shanghai_With_R.csv\"\n",
    "dataset = pd.read_csv(path)\n",
    "del dataset[\"Unnamed: 0\"]"
   ]
  },
  {
   "cell_type": "code",
   "execution_count": 23,
   "metadata": {},
   "outputs": [],
   "source": [
    "Shanghai_Center_X = 31.2315\n",
    "Shanghai_Center_Y = 121.1935\n",
    "dataset['centerDistance']=0.0\n",
    "for index,row in dataset.iterrows():\n",
    "    dis = ((row['X']-Shanghai_Center_X)**2) + ((row['Y']-Shanghai_Center_Y)**2)\n",
    "    #print(dis)\n",
    "    dataset.loc[index,'centerDistance']=int(dis*1000)\n",
    "    "
   ]
  },
  {
   "cell_type": "code",
   "execution_count": 24,
   "metadata": {},
   "outputs": [],
   "source": [
    "dataset['Type'] = dataset['Type'].map(Tpye_map_new)"
   ]
  },
  {
   "cell_type": "code",
   "execution_count": 25,
   "metadata": {},
   "outputs": [],
   "source": [
    "dataset = dataset.dropna()"
   ]
  },
  {
   "cell_type": "code",
   "execution_count": 26,
   "metadata": {},
   "outputs": [],
   "source": [
    "rValue_map = {}\n",
    "n = 0\n",
    "#rValue范围在0-99\n",
    "for i in range(0,100):\n",
    "    rValue_map[n] = (n//10)*10\n",
    "    n+=1\n",
    "    \n",
    "dataset['rValue'] = dataset['rValue'].map(rValue_map)"
   ]
  },
  {
   "cell_type": "code",
   "execution_count": 27,
   "metadata": {},
   "outputs": [],
   "source": [
    "extra = dataset.loc[:,['index','X','Y','District']]\n",
    "combine = dataset.drop(['index','X','Y','District'],axis = 1)"
   ]
  },
  {
   "cell_type": "code",
   "execution_count": 28,
   "metadata": {},
   "outputs": [],
   "source": [
    "y = combine.loc[:,['rValue','rRange']]\n",
    "x = combine.drop(['rValue','rRange'],axis = 1)"
   ]
  },
  {
   "cell_type": "code",
   "execution_count": 37,
   "metadata": {},
   "outputs": [
    {
     "data": {
      "text/html": [
       "<div>\n",
       "<style scoped>\n",
       "    .dataframe tbody tr th:only-of-type {\n",
       "        vertical-align: middle;\n",
       "    }\n",
       "\n",
       "    .dataframe tbody tr th {\n",
       "        vertical-align: top;\n",
       "    }\n",
       "\n",
       "    .dataframe thead th {\n",
       "        text-align: right;\n",
       "    }\n",
       "</style>\n",
       "<table border=\"1\" class=\"dataframe\">\n",
       "  <thead>\n",
       "    <tr style=\"text-align: right;\">\n",
       "      <th></th>\n",
       "      <th>Type</th>\n",
       "      <th>centerDistance</th>\n",
       "    </tr>\n",
       "  </thead>\n",
       "  <tbody>\n",
       "    <tr>\n",
       "      <td>0</td>\n",
       "      <td>17.0</td>\n",
       "      <td>59.0</td>\n",
       "    </tr>\n",
       "    <tr>\n",
       "      <td>1</td>\n",
       "      <td>125.0</td>\n",
       "      <td>63.0</td>\n",
       "    </tr>\n",
       "    <tr>\n",
       "      <td>2</td>\n",
       "      <td>9.0</td>\n",
       "      <td>298.0</td>\n",
       "    </tr>\n",
       "    <tr>\n",
       "      <td>3</td>\n",
       "      <td>17.0</td>\n",
       "      <td>207.0</td>\n",
       "    </tr>\n",
       "    <tr>\n",
       "      <td>4</td>\n",
       "      <td>190.0</td>\n",
       "      <td>37.0</td>\n",
       "    </tr>\n",
       "    <tr>\n",
       "      <td>...</td>\n",
       "      <td>...</td>\n",
       "      <td>...</td>\n",
       "    </tr>\n",
       "    <tr>\n",
       "      <td>231568</td>\n",
       "      <td>17.0</td>\n",
       "      <td>151.0</td>\n",
       "    </tr>\n",
       "    <tr>\n",
       "      <td>231569</td>\n",
       "      <td>55.0</td>\n",
       "      <td>355.0</td>\n",
       "    </tr>\n",
       "    <tr>\n",
       "      <td>231570</td>\n",
       "      <td>125.0</td>\n",
       "      <td>33.0</td>\n",
       "    </tr>\n",
       "    <tr>\n",
       "      <td>231571</td>\n",
       "      <td>65.0</td>\n",
       "      <td>33.0</td>\n",
       "    </tr>\n",
       "    <tr>\n",
       "      <td>231572</td>\n",
       "      <td>226.0</td>\n",
       "      <td>67.0</td>\n",
       "    </tr>\n",
       "  </tbody>\n",
       "</table>\n",
       "<p>231572 rows × 2 columns</p>\n",
       "</div>"
      ],
      "text/plain": [
       "         Type  centerDistance\n",
       "0        17.0            59.0\n",
       "1       125.0            63.0\n",
       "2         9.0           298.0\n",
       "3        17.0           207.0\n",
       "4       190.0            37.0\n",
       "...       ...             ...\n",
       "231568   17.0           151.0\n",
       "231569   55.0           355.0\n",
       "231570  125.0            33.0\n",
       "231571   65.0            33.0\n",
       "231572  226.0            67.0\n",
       "\n",
       "[231572 rows x 2 columns]"
      ]
     },
     "execution_count": 37,
     "metadata": {},
     "output_type": "execute_result"
    }
   ],
   "source": [
    "x"
   ]
  },
  {
   "cell_type": "code",
   "execution_count": 29,
   "metadata": {},
   "outputs": [],
   "source": [
    "x['centerDistance'] = x['centerDistance'].fillna(x['centerDistance'].median)"
   ]
  },
  {
   "cell_type": "code",
   "execution_count": 30,
   "metadata": {},
   "outputs": [
    {
     "data": {
      "text/plain": [
       "17.0     42699\n",
       "68.0     14518\n",
       "67.0     13578\n",
       "65.0     12095\n",
       "180.0    10095\n",
       "         ...  \n",
       "197.0        2\n",
       "159.0        1\n",
       "104.0        1\n",
       "98.0         1\n",
       "49.0         1\n",
       "Name: Type, Length: 215, dtype: int64"
      ]
     },
     "execution_count": 30,
     "metadata": {},
     "output_type": "execute_result"
    }
   ],
   "source": [
    "x.Type.value_counts()"
   ]
  },
  {
   "cell_type": "code",
   "execution_count": 31,
   "metadata": {},
   "outputs": [],
   "source": [
    "y1 = y.loc[:,['rValue']]\n",
    "y2 = y.loc[:,['rRange']]\n",
    "y2['rRange'] = y2['rRange']*10000"
   ]
  },
  {
   "cell_type": "code",
   "execution_count": 32,
   "metadata": {},
   "outputs": [],
   "source": [
    "x_train, x_test, y1_train, y1_test, = train_test_split(x, y1, test_size=0.25, random_state=42)\n",
    "x_train, x_test, y2_train, y2_test, = train_test_split(x, y2, test_size=0.25, random_state=42)"
   ]
  },
  {
   "cell_type": "code",
   "execution_count": 33,
   "metadata": {},
   "outputs": [
    {
     "name": "stdout",
     "output_type": "stream",
     "text": [
      "(173679, 2) (57893, 2)\n",
      "(173679, 1) (57893, 1)\n"
     ]
    }
   ],
   "source": [
    "print(x_train.shape,x_test.shape)\n",
    "print(y1_train.shape,y1_test.shape)"
   ]
  },
  {
   "cell_type": "code",
   "execution_count": 34,
   "metadata": {},
   "outputs": [
    {
     "data": {
      "text/plain": [
       "False"
      ]
     },
     "execution_count": 34,
     "metadata": {},
     "output_type": "execute_result"
    }
   ],
   "source": [
    "x['Type'].isnull().any()"
   ]
  },
  {
   "cell_type": "code",
   "execution_count": 35,
   "metadata": {},
   "outputs": [
    {
     "name": "stderr",
     "output_type": "stream",
     "text": [
      "/Users/longzhuren/anaconda3/envs/ee127/lib/python3.6/site-packages/ipykernel_launcher.py:3: DataConversionWarning: A column-vector y was passed when a 1d array was expected. Please change the shape of y to (n_samples,), for example using ravel().\n",
      "  This is separate from the ipykernel package so we can avoid doing imports until\n"
     ]
    },
    {
     "data": {
      "text/plain": [
       "78.51"
      ]
     },
     "execution_count": 35,
     "metadata": {},
     "output_type": "execute_result"
    }
   ],
   "source": [
    "#随机森林\n",
    "v_random_forest = RandomForestClassifier(n_estimators=100)\n",
    "v_random_forest.fit(x_train, y1_train)\n",
    "#此处产出全部x的结果用于后续打印\n",
    "y_pred1 = v_random_forest.predict(x)\n",
    "acc_rf = round(v_random_forest.score(x_train, y1_train)*100,2)\n",
    "acc_rf"
   ]
  },
  {
   "cell_type": "code",
   "execution_count": 36,
   "metadata": {},
   "outputs": [
    {
     "name": "stderr",
     "output_type": "stream",
     "text": [
      "/Users/longzhuren/anaconda3/envs/ee127/lib/python3.6/site-packages/ipykernel_launcher.py:2: DataConversionWarning: A column-vector y was passed when a 1d array was expected. Please change the shape of y to (n_samples,), for example using ravel().\n",
      "  \n"
     ]
    },
    {
     "data": {
      "text/plain": [
       "49.93"
      ]
     },
     "execution_count": 36,
     "metadata": {},
     "output_type": "execute_result"
    }
   ],
   "source": [
    "r_random_forest = RandomForestClassifier(n_estimators=100)\n",
    "r_random_forest.fit(x_train, y2_train.astype('int'))\n",
    "#此处产出全部x的结果用于后续打印\n",
    "y_pred2 = r_random_forest.predict(x)\n",
    "acc_rf = round(r_random_forest.score(x_train, y2_train.astype('int'))*100,2)\n",
    "acc_rf"
   ]
  },
  {
   "cell_type": "code",
   "execution_count": 86,
   "metadata": {},
   "outputs": [
    {
     "name": "stdout",
     "output_type": "stream",
     "text": [
      "<class 'pandas.core.frame.DataFrame'>\n",
      "Int64Index: 198848 entries, 0 to 207890\n",
      "Data columns (total 8 columns):\n",
      "index             198848 non-null int64\n",
      "X                 198848 non-null float64\n",
      "Y                 198848 non-null float64\n",
      "District          198848 non-null object\n",
      "Type              198848 non-null int64\n",
      "rValue            198848 non-null int64\n",
      "rRange            198848 non-null int64\n",
      "centerDistance    198848 non-null float64\n",
      "dtypes: float64(3), int64(4), object(1)\n",
      "memory usage: 18.7+ MB\n"
     ]
    }
   ],
   "source": [
    "##上海算出来的模型已经有了，现在我们来搞北京市的\n",
    "Beijing.info()"
   ]
  },
  {
   "cell_type": "code",
   "execution_count": 87,
   "metadata": {},
   "outputs": [],
   "source": [
    "Beijing_extra = Beijing.loc[:,['index','X','Y','District']]\n",
    "Beijing_combine = Beijing.drop(['index','X','Y','District'],axis = 1)"
   ]
  },
  {
   "cell_type": "code",
   "execution_count": 88,
   "metadata": {},
   "outputs": [],
   "source": [
    "by = Beijing_combine.loc[:,['rValue','rRange']]\n",
    "bx = Beijing_combine.drop(['rValue','rRange'],axis = 1)"
   ]
  },
  {
   "cell_type": "code",
   "execution_count": 89,
   "metadata": {},
   "outputs": [
    {
     "data": {
      "text/html": [
       "<div>\n",
       "<style scoped>\n",
       "    .dataframe tbody tr th:only-of-type {\n",
       "        vertical-align: middle;\n",
       "    }\n",
       "\n",
       "    .dataframe tbody tr th {\n",
       "        vertical-align: top;\n",
       "    }\n",
       "\n",
       "    .dataframe thead th {\n",
       "        text-align: right;\n",
       "    }\n",
       "</style>\n",
       "<table border=\"1\" class=\"dataframe\">\n",
       "  <thead>\n",
       "    <tr style=\"text-align: right;\">\n",
       "      <th></th>\n",
       "      <th>Type</th>\n",
       "      <th>centerDistance</th>\n",
       "    </tr>\n",
       "  </thead>\n",
       "  <tbody>\n",
       "    <tr>\n",
       "      <td>0</td>\n",
       "      <td>9</td>\n",
       "      <td>11.0</td>\n",
       "    </tr>\n",
       "    <tr>\n",
       "      <td>1</td>\n",
       "      <td>218</td>\n",
       "      <td>0.0</td>\n",
       "    </tr>\n",
       "    <tr>\n",
       "      <td>2</td>\n",
       "      <td>65</td>\n",
       "      <td>0.0</td>\n",
       "    </tr>\n",
       "    <tr>\n",
       "      <td>3</td>\n",
       "      <td>65</td>\n",
       "      <td>0.0</td>\n",
       "    </tr>\n",
       "    <tr>\n",
       "      <td>4</td>\n",
       "      <td>65</td>\n",
       "      <td>1.0</td>\n",
       "    </tr>\n",
       "    <tr>\n",
       "      <td>...</td>\n",
       "      <td>...</td>\n",
       "      <td>...</td>\n",
       "    </tr>\n",
       "    <tr>\n",
       "      <td>207886</td>\n",
       "      <td>68</td>\n",
       "      <td>20.0</td>\n",
       "    </tr>\n",
       "    <tr>\n",
       "      <td>207887</td>\n",
       "      <td>68</td>\n",
       "      <td>22.0</td>\n",
       "    </tr>\n",
       "    <tr>\n",
       "      <td>207888</td>\n",
       "      <td>17</td>\n",
       "      <td>34.0</td>\n",
       "    </tr>\n",
       "    <tr>\n",
       "      <td>207889</td>\n",
       "      <td>152</td>\n",
       "      <td>21.0</td>\n",
       "    </tr>\n",
       "    <tr>\n",
       "      <td>207890</td>\n",
       "      <td>17</td>\n",
       "      <td>108.0</td>\n",
       "    </tr>\n",
       "  </tbody>\n",
       "</table>\n",
       "<p>198848 rows × 2 columns</p>\n",
       "</div>"
      ],
      "text/plain": [
       "        Type  centerDistance\n",
       "0          9            11.0\n",
       "1        218             0.0\n",
       "2         65             0.0\n",
       "3         65             0.0\n",
       "4         65             1.0\n",
       "...      ...             ...\n",
       "207886    68            20.0\n",
       "207887    68            22.0\n",
       "207888    17            34.0\n",
       "207889   152            21.0\n",
       "207890    17           108.0\n",
       "\n",
       "[198848 rows x 2 columns]"
      ]
     },
     "execution_count": 89,
     "metadata": {},
     "output_type": "execute_result"
    }
   ],
   "source": [
    "bx"
   ]
  },
  {
   "cell_type": "code",
   "execution_count": 140,
   "metadata": {},
   "outputs": [],
   "source": [
    "beijing_y_pred1 = v_random_forest.predict(bx)"
   ]
  },
  {
   "cell_type": "code",
   "execution_count": 141,
   "metadata": {},
   "outputs": [],
   "source": [
    "beijing_y_pred2 = r_random_forest.predict(bx)"
   ]
  },
  {
   "cell_type": "code",
   "execution_count": 142,
   "metadata": {},
   "outputs": [],
   "source": [
    "predictRValue=pd.DataFrame(beijing_y_pred1)\n",
    "predictRRange=pd.DataFrame(beijing_y_pred2)"
   ]
  },
  {
   "cell_type": "code",
   "execution_count": 143,
   "metadata": {},
   "outputs": [
    {
     "name": "stdout",
     "output_type": "stream",
     "text": [
      "(198848, 1)\n",
      "(198848, 1)\n",
      "(198848, 2)\n"
     ]
    }
   ],
   "source": [
    "print(predictRValue.shape)\n",
    "print(predictRRange.shape)\n",
    "print(bx.shape)"
   ]
  },
  {
   "cell_type": "code",
   "execution_count": 144,
   "metadata": {},
   "outputs": [],
   "source": [
    "bx.reset_index(drop=True, inplace=True)\n"
   ]
  },
  {
   "cell_type": "code",
   "execution_count": 145,
   "metadata": {},
   "outputs": [],
   "source": [
    "predictRRange[0] = predictRRange[0]*0.0001"
   ]
  },
  {
   "cell_type": "code",
   "execution_count": 146,
   "metadata": {},
   "outputs": [
    {
     "name": "stdout",
     "output_type": "stream",
     "text": [
      "(198848, 1)\n",
      "(198848, 1)\n",
      "(198848, 2)\n"
     ]
    }
   ],
   "source": [
    "print(predictRValue.shape)\n",
    "print(predictRRange.shape)\n",
    "print(bx.shape)"
   ]
  },
  {
   "cell_type": "code",
   "execution_count": 147,
   "metadata": {},
   "outputs": [],
   "source": [
    "ans = pd.concat([bx,predictRValue],axis=1)\n",
    "ans = pd.concat([ans,predictRRange],axis=1)"
   ]
  },
  {
   "cell_type": "code",
   "execution_count": 148,
   "metadata": {},
   "outputs": [],
   "source": [
    "ans.columns = ['Type', 'centerDistance', 'rValue','rRange']"
   ]
  },
  {
   "cell_type": "code",
   "execution_count": 149,
   "metadata": {},
   "outputs": [
    {
     "data": {
      "text/html": [
       "<div>\n",
       "<style scoped>\n",
       "    .dataframe tbody tr th:only-of-type {\n",
       "        vertical-align: middle;\n",
       "    }\n",
       "\n",
       "    .dataframe tbody tr th {\n",
       "        vertical-align: top;\n",
       "    }\n",
       "\n",
       "    .dataframe thead th {\n",
       "        text-align: right;\n",
       "    }\n",
       "</style>\n",
       "<table border=\"1\" class=\"dataframe\">\n",
       "  <thead>\n",
       "    <tr style=\"text-align: right;\">\n",
       "      <th></th>\n",
       "      <th>Type</th>\n",
       "      <th>centerDistance</th>\n",
       "      <th>rValue</th>\n",
       "      <th>rRange</th>\n",
       "    </tr>\n",
       "  </thead>\n",
       "  <tbody>\n",
       "    <tr>\n",
       "      <td>0</td>\n",
       "      <td>9</td>\n",
       "      <td>11.0</td>\n",
       "      <td>0</td>\n",
       "      <td>0.0011</td>\n",
       "    </tr>\n",
       "    <tr>\n",
       "      <td>1</td>\n",
       "      <td>218</td>\n",
       "      <td>0.0</td>\n",
       "      <td>0</td>\n",
       "      <td>0.0000</td>\n",
       "    </tr>\n",
       "    <tr>\n",
       "      <td>2</td>\n",
       "      <td>65</td>\n",
       "      <td>0.0</td>\n",
       "      <td>0</td>\n",
       "      <td>0.0000</td>\n",
       "    </tr>\n",
       "    <tr>\n",
       "      <td>3</td>\n",
       "      <td>65</td>\n",
       "      <td>0.0</td>\n",
       "      <td>0</td>\n",
       "      <td>0.0000</td>\n",
       "    </tr>\n",
       "    <tr>\n",
       "      <td>4</td>\n",
       "      <td>65</td>\n",
       "      <td>1.0</td>\n",
       "      <td>0</td>\n",
       "      <td>0.0000</td>\n",
       "    </tr>\n",
       "    <tr>\n",
       "      <td>...</td>\n",
       "      <td>...</td>\n",
       "      <td>...</td>\n",
       "      <td>...</td>\n",
       "      <td>...</td>\n",
       "    </tr>\n",
       "    <tr>\n",
       "      <td>198843</td>\n",
       "      <td>68</td>\n",
       "      <td>20.0</td>\n",
       "      <td>0</td>\n",
       "      <td>0.0000</td>\n",
       "    </tr>\n",
       "    <tr>\n",
       "      <td>198844</td>\n",
       "      <td>68</td>\n",
       "      <td>22.0</td>\n",
       "      <td>0</td>\n",
       "      <td>0.0000</td>\n",
       "    </tr>\n",
       "    <tr>\n",
       "      <td>198845</td>\n",
       "      <td>17</td>\n",
       "      <td>34.0</td>\n",
       "      <td>0</td>\n",
       "      <td>0.0000</td>\n",
       "    </tr>\n",
       "    <tr>\n",
       "      <td>198846</td>\n",
       "      <td>152</td>\n",
       "      <td>21.0</td>\n",
       "      <td>0</td>\n",
       "      <td>0.0000</td>\n",
       "    </tr>\n",
       "    <tr>\n",
       "      <td>198847</td>\n",
       "      <td>17</td>\n",
       "      <td>108.0</td>\n",
       "      <td>0</td>\n",
       "      <td>0.0000</td>\n",
       "    </tr>\n",
       "  </tbody>\n",
       "</table>\n",
       "<p>198848 rows × 4 columns</p>\n",
       "</div>"
      ],
      "text/plain": [
       "        Type  centerDistance  rValue  rRange\n",
       "0          9            11.0       0  0.0011\n",
       "1        218             0.0       0  0.0000\n",
       "2         65             0.0       0  0.0000\n",
       "3         65             0.0       0  0.0000\n",
       "4         65             1.0       0  0.0000\n",
       "...      ...             ...     ...     ...\n",
       "198843    68            20.0       0  0.0000\n",
       "198844    68            22.0       0  0.0000\n",
       "198845    17            34.0       0  0.0000\n",
       "198846   152            21.0       0  0.0000\n",
       "198847    17           108.0       0  0.0000\n",
       "\n",
       "[198848 rows x 4 columns]"
      ]
     },
     "execution_count": 149,
     "metadata": {},
     "output_type": "execute_result"
    }
   ],
   "source": [
    "ans"
   ]
  },
  {
   "cell_type": "code",
   "execution_count": 150,
   "metadata": {},
   "outputs": [
    {
     "data": {
      "text/plain": [
       "(198848, 4)"
      ]
     },
     "execution_count": 150,
     "metadata": {},
     "output_type": "execute_result"
    }
   ],
   "source": [
    "ans.shape"
   ]
  },
  {
   "cell_type": "code",
   "execution_count": 151,
   "metadata": {},
   "outputs": [],
   "source": [
    "Beijing_extra.reset_index(drop=True, inplace=True)\n",
    "ans = pd.concat([Beijing_extra,ans],axis=1)"
   ]
  },
  {
   "cell_type": "code",
   "execution_count": 156,
   "metadata": {},
   "outputs": [
    {
     "data": {
      "text/html": [
       "<div>\n",
       "<style scoped>\n",
       "    .dataframe tbody tr th:only-of-type {\n",
       "        vertical-align: middle;\n",
       "    }\n",
       "\n",
       "    .dataframe tbody tr th {\n",
       "        vertical-align: top;\n",
       "    }\n",
       "\n",
       "    .dataframe thead th {\n",
       "        text-align: right;\n",
       "    }\n",
       "</style>\n",
       "<table border=\"1\" class=\"dataframe\">\n",
       "  <thead>\n",
       "    <tr style=\"text-align: right;\">\n",
       "      <th></th>\n",
       "      <th>index</th>\n",
       "      <th>X</th>\n",
       "      <th>Y</th>\n",
       "      <th>District</th>\n",
       "      <th>Type</th>\n",
       "      <th>centerDistance</th>\n",
       "      <th>rValue</th>\n",
       "      <th>rRange</th>\n",
       "    </tr>\n",
       "  </thead>\n",
       "  <tbody>\n",
       "    <tr>\n",
       "      <td>0</td>\n",
       "      <td>1</td>\n",
       "      <td>39.866495</td>\n",
       "      <td>116.485366</td>\n",
       "      <td>北京市;朝阳区</td>\n",
       "      <td>9</td>\n",
       "      <td>11.0</td>\n",
       "      <td>0</td>\n",
       "      <td>0.0011</td>\n",
       "    </tr>\n",
       "    <tr>\n",
       "      <td>1</td>\n",
       "      <td>10</td>\n",
       "      <td>39.912968</td>\n",
       "      <td>116.407110</td>\n",
       "      <td>北京市;东城区</td>\n",
       "      <td>218</td>\n",
       "      <td>0.0</td>\n",
       "      <td>0</td>\n",
       "      <td>0.0000</td>\n",
       "    </tr>\n",
       "    <tr>\n",
       "      <td>2</td>\n",
       "      <td>19</td>\n",
       "      <td>39.945864</td>\n",
       "      <td>116.397891</td>\n",
       "      <td>北京市;东城区</td>\n",
       "      <td>65</td>\n",
       "      <td>0.0</td>\n",
       "      <td>0</td>\n",
       "      <td>0.0000</td>\n",
       "    </tr>\n",
       "    <tr>\n",
       "      <td>3</td>\n",
       "      <td>28</td>\n",
       "      <td>39.935765</td>\n",
       "      <td>116.397783</td>\n",
       "      <td>北京市;东城区</td>\n",
       "      <td>65</td>\n",
       "      <td>0.0</td>\n",
       "      <td>0</td>\n",
       "      <td>0.0000</td>\n",
       "    </tr>\n",
       "    <tr>\n",
       "      <td>4</td>\n",
       "      <td>37</td>\n",
       "      <td>39.957486</td>\n",
       "      <td>116.405613</td>\n",
       "      <td>北京市;东城区</td>\n",
       "      <td>65</td>\n",
       "      <td>1.0</td>\n",
       "      <td>0</td>\n",
       "      <td>0.0000</td>\n",
       "    </tr>\n",
       "    <tr>\n",
       "      <td>...</td>\n",
       "      <td>...</td>\n",
       "      <td>...</td>\n",
       "      <td>...</td>\n",
       "      <td>...</td>\n",
       "      <td>...</td>\n",
       "      <td>...</td>\n",
       "      <td>...</td>\n",
       "      <td>...</td>\n",
       "    </tr>\n",
       "    <tr>\n",
       "      <td>198843</td>\n",
       "      <td>1870975</td>\n",
       "      <td>39.821788</td>\n",
       "      <td>116.284902</td>\n",
       "      <td>北京市;丰台区</td>\n",
       "      <td>68</td>\n",
       "      <td>20.0</td>\n",
       "      <td>0</td>\n",
       "      <td>0.0000</td>\n",
       "    </tr>\n",
       "    <tr>\n",
       "      <td>198844</td>\n",
       "      <td>1870984</td>\n",
       "      <td>39.819858</td>\n",
       "      <td>116.277553</td>\n",
       "      <td>北京市;丰台区</td>\n",
       "      <td>68</td>\n",
       "      <td>22.0</td>\n",
       "      <td>0</td>\n",
       "      <td>0.0000</td>\n",
       "    </tr>\n",
       "    <tr>\n",
       "      <td>198845</td>\n",
       "      <td>1870993</td>\n",
       "      <td>39.909846</td>\n",
       "      <td>116.576041</td>\n",
       "      <td>北京市;朝阳区</td>\n",
       "      <td>17</td>\n",
       "      <td>34.0</td>\n",
       "      <td>0</td>\n",
       "      <td>0.0000</td>\n",
       "    </tr>\n",
       "    <tr>\n",
       "      <td>198846</td>\n",
       "      <td>1871002</td>\n",
       "      <td>39.819435</td>\n",
       "      <td>116.279600</td>\n",
       "      <td>北京市;丰台区</td>\n",
       "      <td>152</td>\n",
       "      <td>21.0</td>\n",
       "      <td>0</td>\n",
       "      <td>0.0000</td>\n",
       "    </tr>\n",
       "    <tr>\n",
       "      <td>198847</td>\n",
       "      <td>1871011</td>\n",
       "      <td>39.855663</td>\n",
       "      <td>116.713978</td>\n",
       "      <td>北京市;通州区</td>\n",
       "      <td>17</td>\n",
       "      <td>108.0</td>\n",
       "      <td>0</td>\n",
       "      <td>0.0000</td>\n",
       "    </tr>\n",
       "  </tbody>\n",
       "</table>\n",
       "<p>198848 rows × 8 columns</p>\n",
       "</div>"
      ],
      "text/plain": [
       "          index          X           Y District  Type  centerDistance  rValue  \\\n",
       "0             1  39.866495  116.485366  北京市;朝阳区     9            11.0       0   \n",
       "1            10  39.912968  116.407110  北京市;东城区   218             0.0       0   \n",
       "2            19  39.945864  116.397891  北京市;东城区    65             0.0       0   \n",
       "3            28  39.935765  116.397783  北京市;东城区    65             0.0       0   \n",
       "4            37  39.957486  116.405613  北京市;东城区    65             1.0       0   \n",
       "...         ...        ...         ...      ...   ...             ...     ...   \n",
       "198843  1870975  39.821788  116.284902  北京市;丰台区    68            20.0       0   \n",
       "198844  1870984  39.819858  116.277553  北京市;丰台区    68            22.0       0   \n",
       "198845  1870993  39.909846  116.576041  北京市;朝阳区    17            34.0       0   \n",
       "198846  1871002  39.819435  116.279600  北京市;丰台区   152            21.0       0   \n",
       "198847  1871011  39.855663  116.713978  北京市;通州区    17           108.0       0   \n",
       "\n",
       "        rRange  \n",
       "0       0.0011  \n",
       "1       0.0000  \n",
       "2       0.0000  \n",
       "3       0.0000  \n",
       "4       0.0000  \n",
       "...        ...  \n",
       "198843  0.0000  \n",
       "198844  0.0000  \n",
       "198845  0.0000  \n",
       "198846  0.0000  \n",
       "198847  0.0000  \n",
       "\n",
       "[198848 rows x 8 columns]"
      ]
     },
     "execution_count": 156,
     "metadata": {},
     "output_type": "execute_result"
    }
   ],
   "source": [
    "ans"
   ]
  },
  {
   "cell_type": "code",
   "execution_count": 157,
   "metadata": {},
   "outputs": [],
   "source": [
    "ans.to_csv(\"./Beijing_ML_answer.csv\")"
   ]
  },
  {
   "cell_type": "code",
   "execution_count": null,
   "metadata": {},
   "outputs": [],
   "source": []
  }
 ],
 "metadata": {
  "kernelspec": {
   "display_name": "Python 3",
   "language": "python",
   "name": "python3"
  },
  "language_info": {
   "codemirror_mode": {
    "name": "ipython",
    "version": 3
   },
   "file_extension": ".py",
   "mimetype": "text/x-python",
   "name": "python",
   "nbconvert_exporter": "python",
   "pygments_lexer": "ipython3",
   "version": "3.6.9"
  }
 },
 "nbformat": 4,
 "nbformat_minor": 2
}
