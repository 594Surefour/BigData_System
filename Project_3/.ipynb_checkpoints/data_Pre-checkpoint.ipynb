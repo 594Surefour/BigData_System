{
 "cells": [
  {
   "cell_type": "code",
   "execution_count": 1,
   "metadata": {},
   "outputs": [],
   "source": [
    "import pandas as pd"
   ]
  },
  {
   "cell_type": "code",
   "execution_count": 2,
   "metadata": {},
   "outputs": [],
   "source": [
    "path = \"./20170420-181200.csv\"\n",
    "file = pd.read_csv(path,parse_dates=['time'])"
   ]
  },
  {
   "cell_type": "code",
   "execution_count": 3,
   "metadata": {},
   "outputs": [
    {
     "data": {
      "text/html": [
       "<div>\n",
       "<style scoped>\n",
       "    .dataframe tbody tr th:only-of-type {\n",
       "        vertical-align: middle;\n",
       "    }\n",
       "\n",
       "    .dataframe tbody tr th {\n",
       "        vertical-align: top;\n",
       "    }\n",
       "\n",
       "    .dataframe thead th {\n",
       "        text-align: right;\n",
       "    }\n",
       "</style>\n",
       "<table border=\"1\" class=\"dataframe\">\n",
       "  <thead>\n",
       "    <tr style=\"text-align: right;\">\n",
       "      <th></th>\n",
       "      <th>time</th>\n",
       "      <th>bikeID</th>\n",
       "      <th>bikeType</th>\n",
       "      <th>distID</th>\n",
       "      <th>distNum</th>\n",
       "      <th>distType</th>\n",
       "      <th>distX</th>\n",
       "      <th>distY</th>\n",
       "      <th>distance</th>\n",
       "    </tr>\n",
       "  </thead>\n",
       "  <tbody>\n",
       "    <tr>\n",
       "      <td>0</td>\n",
       "      <td>2017-04-20 18:12:04</td>\n",
       "      <td>0216165609#</td>\n",
       "      <td>999</td>\n",
       "      <td>216165609</td>\n",
       "      <td>1</td>\n",
       "      <td>0</td>\n",
       "      <td>121.226109</td>\n",
       "      <td>31.396154</td>\n",
       "      <td>256.0</td>\n",
       "    </tr>\n",
       "    <tr>\n",
       "      <td>1</td>\n",
       "      <td>2017-04-20 18:12:04</td>\n",
       "      <td>0210091154#</td>\n",
       "      <td>2</td>\n",
       "      <td>210091154</td>\n",
       "      <td>1</td>\n",
       "      <td>0</td>\n",
       "      <td>121.230112</td>\n",
       "      <td>31.397899</td>\n",
       "      <td>491.0</td>\n",
       "    </tr>\n",
       "    <tr>\n",
       "      <td>2</td>\n",
       "      <td>2017-04-20 18:12:04</td>\n",
       "      <td>0210013703#</td>\n",
       "      <td>1</td>\n",
       "      <td>210013703</td>\n",
       "      <td>1</td>\n",
       "      <td>0</td>\n",
       "      <td>121.290971</td>\n",
       "      <td>31.394811</td>\n",
       "      <td>92.0</td>\n",
       "    </tr>\n",
       "    <tr>\n",
       "      <td>3</td>\n",
       "      <td>2017-04-20 18:12:04</td>\n",
       "      <td>0210042351#</td>\n",
       "      <td>1</td>\n",
       "      <td>210042351</td>\n",
       "      <td>1</td>\n",
       "      <td>0</td>\n",
       "      <td>121.290913</td>\n",
       "      <td>31.394981</td>\n",
       "      <td>105.0</td>\n",
       "    </tr>\n",
       "    <tr>\n",
       "      <td>4</td>\n",
       "      <td>2017-04-20 18:12:04</td>\n",
       "      <td>0216507300#</td>\n",
       "      <td>1</td>\n",
       "      <td>216507300</td>\n",
       "      <td>1</td>\n",
       "      <td>0</td>\n",
       "      <td>121.289266</td>\n",
       "      <td>31.393537</td>\n",
       "      <td>128.0</td>\n",
       "    </tr>\n",
       "  </tbody>\n",
       "</table>\n",
       "</div>"
      ],
      "text/plain": [
       "                 time       bikeID  bikeType     distID  distNum  distType  \\\n",
       "0 2017-04-20 18:12:04  0216165609#       999  216165609        1         0   \n",
       "1 2017-04-20 18:12:04  0210091154#         2  210091154        1         0   \n",
       "2 2017-04-20 18:12:04  0210013703#         1  210013703        1         0   \n",
       "3 2017-04-20 18:12:04  0210042351#         1  210042351        1         0   \n",
       "4 2017-04-20 18:12:04  0216507300#         1  216507300        1         0   \n",
       "\n",
       "        distX      distY  distance  \n",
       "0  121.226109  31.396154     256.0  \n",
       "1  121.230112  31.397899     491.0  \n",
       "2  121.290971  31.394811      92.0  \n",
       "3  121.290913  31.394981     105.0  \n",
       "4  121.289266  31.393537     128.0  "
      ]
     },
     "execution_count": 3,
     "metadata": {},
     "output_type": "execute_result"
    }
   ],
   "source": [
    "file.head()"
   ]
  },
  {
   "cell_type": "code",
   "execution_count": 4,
   "metadata": {},
   "outputs": [
    {
     "data": {
      "text/html": [
       "<div>\n",
       "<style scoped>\n",
       "    .dataframe tbody tr th:only-of-type {\n",
       "        vertical-align: middle;\n",
       "    }\n",
       "\n",
       "    .dataframe tbody tr th {\n",
       "        vertical-align: top;\n",
       "    }\n",
       "\n",
       "    .dataframe thead th {\n",
       "        text-align: right;\n",
       "    }\n",
       "</style>\n",
       "<table border=\"1\" class=\"dataframe\">\n",
       "  <thead>\n",
       "    <tr style=\"text-align: right;\">\n",
       "      <th></th>\n",
       "      <th>time</th>\n",
       "      <th>bikeID</th>\n",
       "      <th>bikeType</th>\n",
       "      <th>distID</th>\n",
       "      <th>distNum</th>\n",
       "      <th>distType</th>\n",
       "      <th>distX</th>\n",
       "      <th>distY</th>\n",
       "      <th>distance</th>\n",
       "    </tr>\n",
       "  </thead>\n",
       "  <tbody>\n",
       "    <tr>\n",
       "      <td>657082</td>\n",
       "      <td>2017-04-20 19:02:19</td>\n",
       "      <td>0210102595#</td>\n",
       "      <td>2</td>\n",
       "      <td>210102595</td>\n",
       "      <td>1</td>\n",
       "      <td>0</td>\n",
       "      <td>121.734243</td>\n",
       "      <td>30.989473</td>\n",
       "      <td>1359.0</td>\n",
       "    </tr>\n",
       "    <tr>\n",
       "      <td>657083</td>\n",
       "      <td>2017-04-20 19:02:19</td>\n",
       "      <td>0216060815#</td>\n",
       "      <td>2</td>\n",
       "      <td>216060815</td>\n",
       "      <td>1</td>\n",
       "      <td>0</td>\n",
       "      <td>121.734155</td>\n",
       "      <td>30.989355</td>\n",
       "      <td>1359.0</td>\n",
       "    </tr>\n",
       "    <tr>\n",
       "      <td>657084</td>\n",
       "      <td>2017-04-20 19:02:19</td>\n",
       "      <td>0210110751#</td>\n",
       "      <td>999</td>\n",
       "      <td>210110751</td>\n",
       "      <td>1</td>\n",
       "      <td>0</td>\n",
       "      <td>121.747247</td>\n",
       "      <td>30.995440</td>\n",
       "      <td>1372.0</td>\n",
       "    </tr>\n",
       "    <tr>\n",
       "      <td>657085</td>\n",
       "      <td>2017-04-20 19:02:19</td>\n",
       "      <td>0216114543#</td>\n",
       "      <td>999</td>\n",
       "      <td>216114543</td>\n",
       "      <td>1</td>\n",
       "      <td>0</td>\n",
       "      <td>121.783903</td>\n",
       "      <td>30.984742</td>\n",
       "      <td>228.0</td>\n",
       "    </tr>\n",
       "    <tr>\n",
       "      <td>657086</td>\n",
       "      <td>2017-04-20 19:02:19</td>\n",
       "      <td>0216075400#</td>\n",
       "      <td>999</td>\n",
       "      <td>216075400</td>\n",
       "      <td>1</td>\n",
       "      <td>0</td>\n",
       "      <td>121.783912</td>\n",
       "      <td>30.984826</td>\n",
       "      <td>236.0</td>\n",
       "    </tr>\n",
       "  </tbody>\n",
       "</table>\n",
       "</div>"
      ],
      "text/plain": [
       "                      time       bikeID  bikeType     distID  distNum  \\\n",
       "657082 2017-04-20 19:02:19  0210102595#         2  210102595        1   \n",
       "657083 2017-04-20 19:02:19  0216060815#         2  216060815        1   \n",
       "657084 2017-04-20 19:02:19  0210110751#       999  210110751        1   \n",
       "657085 2017-04-20 19:02:19  0216114543#       999  216114543        1   \n",
       "657086 2017-04-20 19:02:19  0216075400#       999  216075400        1   \n",
       "\n",
       "        distType       distX      distY  distance  \n",
       "657082         0  121.734243  30.989473    1359.0  \n",
       "657083         0  121.734155  30.989355    1359.0  \n",
       "657084         0  121.747247  30.995440    1372.0  \n",
       "657085         0  121.783903  30.984742     228.0  \n",
       "657086         0  121.783912  30.984826     236.0  "
      ]
     },
     "execution_count": 4,
     "metadata": {},
     "output_type": "execute_result"
    }
   ],
   "source": [
    "file.tail()"
   ]
  },
  {
   "cell_type": "code",
   "execution_count": 5,
   "metadata": {},
   "outputs": [
    {
     "name": "stdout",
     "output_type": "stream",
     "text": [
      "<class 'pandas.core.frame.DataFrame'>\n",
      "RangeIndex: 657087 entries, 0 to 657086\n",
      "Data columns (total 9 columns):\n",
      "time        657087 non-null datetime64[ns]\n",
      "bikeID      657087 non-null object\n",
      "bikeType    657087 non-null int64\n",
      "distID      657087 non-null int64\n",
      "distNum     657087 non-null int64\n",
      "distType    657087 non-null int64\n",
      "distX       657087 non-null float64\n",
      "distY       657087 non-null float64\n",
      "distance    657087 non-null float64\n",
      "dtypes: datetime64[ns](1), float64(3), int64(4), object(1)\n",
      "memory usage: 45.1+ MB\n"
     ]
    }
   ],
   "source": [
    "file.info()"
   ]
  },
  {
   "cell_type": "code",
   "execution_count": 6,
   "metadata": {},
   "outputs": [
    {
     "data": {
      "text/plain": [
       "657087"
      ]
     },
     "execution_count": 6,
     "metadata": {},
     "output_type": "execute_result"
    }
   ],
   "source": [
    "file['distNum'].sum()"
   ]
  },
  {
   "cell_type": "code",
   "execution_count": 7,
   "metadata": {},
   "outputs": [
    {
     "data": {
      "text/plain": [
       "0"
      ]
     },
     "execution_count": 7,
     "metadata": {},
     "output_type": "execute_result"
    }
   ],
   "source": [
    "file['distType'].sum()"
   ]
  },
  {
   "cell_type": "code",
   "execution_count": 12,
   "metadata": {},
   "outputs": [
    {
     "data": {
      "text/plain": [
       "0216103032#    50\n",
       "0216526853#    48\n",
       "0216587177#    48\n",
       "0216658293#    48\n",
       "0216005964#    48\n",
       "               ..\n",
       "0216650416#     1\n",
       "0216099836#     1\n",
       "0210187927#     1\n",
       "0216085852#     1\n",
       "0216154171#     1\n",
       "Name: bikeID, Length: 181490, dtype: int64"
      ]
     },
     "execution_count": 12,
     "metadata": {},
     "output_type": "execute_result"
    }
   ],
   "source": [
    "file['bikeID'].value_counts()"
   ]
  },
  {
   "cell_type": "code",
   "execution_count": 13,
   "metadata": {},
   "outputs": [
    {
     "data": {
      "text/plain": [
       "181490"
      ]
     },
     "execution_count": 13,
     "metadata": {},
     "output_type": "execute_result"
    }
   ],
   "source": [
    "file['bikeID'].nunique()"
   ]
  },
  {
   "cell_type": "markdown",
   "metadata": {},
   "source": [
    "用户倾向于用新车还是旧车（bikeType)\n",
    "新车旧车的分布\n",
    "移动车辆比较多的地方在哪里（倒入地图）\n",
    "查询点的距离与移动频次的关系"
   ]
  }
 ],
 "metadata": {
  "kernelspec": {
   "display_name": "Python 3",
   "language": "python",
   "name": "python3"
  },
  "language_info": {
   "codemirror_mode": {
    "name": "ipython",
    "version": 3
   },
   "file_extension": ".py",
   "mimetype": "text/x-python",
   "name": "python",
   "nbconvert_exporter": "python",
   "pygments_lexer": "ipython3",
   "version": "3.6.9"
  }
 },
 "nbformat": 4,
 "nbformat_minor": 2
}
